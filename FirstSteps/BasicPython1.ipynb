{
 "cells": [
  {
   "cell_type": "markdown",
   "id": "genetic-undergraduate",
   "metadata": {},
   "source": [
    "# Basic Python\n",
    "\n",
    "In this notebook basic Python language constructs are learned. Here, we will not introduce Python as a tool to program applications but as a programming tool for data science. We use it together with the Jupyter notebook environement and we will stay specific to this. General beginners tutorials can be found [here](https://wiki.python.org/moin/BeginnersGuide/Programmers). However, some basic contructs are introduced.\n",
    "\n",
    "## The data science viewpoint\n",
    "\n",
    "What do we actually want? We want to be able to process data, be it from forestry data repositories, or other sources like the SMEAR stations network, the [ICOS Carbon Portal](https://www.icos-cp.eu), the [NOAA climate data](https://www.ncdc.noaa.gov/cdo-web/datasets) and more.\n",
    "\n",
    "Usually we have some task or idea like how to compare the monthly average carbon dioxide concentration in forests. We would need to find the data, download them and load them into a Jupyter/Python notebook, transform them to the wanted structure (monthly averages of different years at different places), make some analyses (visual, statistical,...), produce meaningful output (graphs, tables,...) and save the results.\n",
    "\n",
    "Using Jupyter notebooks let us further use the notebook document as computational document were we can add our thoughts and we can even use it to publish our results.\n",
    "\n",
    "## The Python REPL\n",
    "\n",
    "Ok,what's that? First, programming languages can be interpreted or compiled. In simple words, the interpreted code is translated into machine code (what the computer actually understands) while the program or app is running and the compiled code is first translated into machine code and the executed. That means, again in simple words, interpreted code can be changed, re-executed and you get the result as a feedback immediately. In copiled code, you need first write it in some editor, compile it, execute it, if there is need for change (almost always there is) this cycle begins again (edit-compile-run).\n",
    "\n",
    "In Python, the interpreter follows:\n",
    "\n",
    "**R**ead \n",
    "\n",
    "**E**valuate\n",
    "\n",
    "**P**rint\n",
    "\n",
    "**L**oop\n",
    "\n",
    "which is the **REPL** acronym. It reads the code / number / string /..., then evaluates it, prints it to the \"console\" or in the Jupyter notebook into the output cell and finally loop this process and waits for the next input to be read. Some examples are:\n"
   ]
  },
  {
   "cell_type": "code",
   "execution_count": 1,
   "id": "solar-meter",
   "metadata": {},
   "outputs": [
    {
     "data": {
      "text/plain": [
       "10"
      ]
     },
     "execution_count": 1,
     "metadata": {},
     "output_type": "execute_result"
    }
   ],
   "source": [
    "10"
   ]
  },
  {
   "cell_type": "markdown",
   "id": "binding-traveler",
   "metadata": {},
   "source": [
    "The interpreter did read \"10\", evaluated it and knew it's an integer number, printed it into the output cell and waited for the next input"
   ]
  },
  {
   "cell_type": "code",
   "execution_count": 3,
   "id": "differential-percentage",
   "metadata": {
    "tags": []
   },
   "outputs": [
    {
     "data": {
      "text/plain": [
       "20"
      ]
     },
     "execution_count": 3,
     "metadata": {},
     "output_type": "execute_result"
    }
   ],
   "source": [
    "10 + 10"
   ]
  },
  {
   "cell_type": "markdown",
   "id": "environmental-princeton",
   "metadata": {},
   "source": [
    "The interpreter did read \"10 + 10\", evaluated this into the number \"10\" that need to be added \"+\" to another number \"10\" and made this calculation, printed the result \"20\" to the output cell and was ready for next input. \n",
    "\n",
    "You can test this by changing the numbers or the operators (+, -, \\*, /) in the cell above and run them by pressing ```[SHIFT] + [ENTER]```. "
   ]
  },
  {
   "cell_type": "markdown",
   "id": "horizontal-taste",
   "metadata": {},
   "source": [
    "## Python basic operators\n",
    "\n",
    "|**Operator**|**Name**|**Example**|\n",
    "|---|---|---|\n",
    "| + | Addition | 2 + 3 == 5 |\n",
    "| - | Subtraction | 8 - 3 == 5 |\n",
    "| * | Multiplication | 2 * 3 == 6 |\n",
    "| / | Division | 12 / 3 == 4 |\n",
    "| % | Modulus | 5 % 2 == 1 |\n",
    "| // | Floor Division | 9 // 2 == 4 |\n",
    "| ** | Exponential | 4 ** 2 == 16 |\n",
    "\n",
    "That is all to make already a lot of calulations and you can of course use them like a pocket calculator on your computer. The typical operator precedence we know from out math courses are valid and you can test them in the notebook."
   ]
  },
  {
   "cell_type": "code",
   "execution_count": 8,
   "id": "straight-matter",
   "metadata": {},
   "outputs": [
    {
     "data": {
      "text/plain": [
       "15"
      ]
     },
     "execution_count": 8,
     "metadata": {},
     "output_type": "execute_result"
    }
   ],
   "source": [
    "(2 + 3) * 3"
   ]
  },
  {
   "cell_type": "markdown",
   "id": "traditional-finding",
   "metadata": {},
   "source": [
    "## Python variables\n",
    "\n",
    "In the examples before, we did not actually stored or kept the values of the calculations. To keep something for later use the **variables** are used in Python. In simple words, we give some name, best so that it makes some sense on what we want to keep, and refer to this later. \n",
    "\n",
    "To store the results of our calculations we may think to use a variable ```result```. Let's check if Python already knows it? Just run the following code cell:"
   ]
  },
  {
   "cell_type": "code",
   "execution_count": 9,
   "id": "funny-twist",
   "metadata": {},
   "outputs": [
    {
     "ename": "NameError",
     "evalue": "name 'result' is not defined",
     "output_type": "error",
     "traceback": [
      "\u001b[0;31m---------------------------------------------------------------------------\u001b[0m",
      "\u001b[0;31mNameError\u001b[0m                                 Traceback (most recent call last)",
      "\u001b[0;32m<ipython-input-9-0ac921c19f1a>\u001b[0m in \u001b[0;36m<module>\u001b[0;34m\u001b[0m\n\u001b[0;32m----> 1\u001b[0;31m \u001b[0mresult\u001b[0m\u001b[0;34m\u001b[0m\u001b[0;34m\u001b[0m\u001b[0m\n\u001b[0m",
      "\u001b[0;31mNameError\u001b[0m: name 'result' is not defined"
     ]
    }
   ],
   "source": [
    "result"
   ]
  },
  {
   "cell_type": "markdown",
   "id": "published-traveler",
   "metadata": {},
   "source": [
    "Obviously not. The interpreter gave an error message telling us that we have to **define** the variable we want to use. To do so, we have to usw the equals operator \"=\" and we get:"
   ]
  },
  {
   "cell_type": "code",
   "execution_count": 10,
   "id": "available-quarterly",
   "metadata": {},
   "outputs": [],
   "source": [
    "result = 4"
   ]
  },
  {
   "cell_type": "markdown",
   "id": "macro-valuation",
   "metadata": {},
   "source": [
    "Now, we do not get an error message but Python does not show the result! Python made an **assignment** and assigned the value of 4 to the variable ```result```.  We can check that by typing:"
   ]
  },
  {
   "cell_type": "code",
   "execution_count": 11,
   "id": "lyric-headline",
   "metadata": {},
   "outputs": [
    {
     "data": {
      "text/plain": [
       "4"
      ]
     },
     "execution_count": 11,
     "metadata": {},
     "output_type": "execute_result"
    }
   ],
   "source": [
    "result"
   ]
  },
  {
   "cell_type": "markdown",
   "id": "alternative-cornwall",
   "metadata": {},
   "source": [
    "Variables can be reused, in the next cell we assign a new value to ```result``` and show the effect:"
   ]
  },
  {
   "cell_type": "code",
   "execution_count": 12,
   "id": "sacred-fault",
   "metadata": {},
   "outputs": [
    {
     "data": {
      "text/plain": [
       "15"
      ]
     },
     "execution_count": 12,
     "metadata": {},
     "output_type": "execute_result"
    }
   ],
   "source": [
    "result = 5 * 3\n",
    "result"
   ]
  },
  {
   "cell_type": "markdown",
   "id": "greatest-clearing",
   "metadata": {},
   "source": [
    "## Python strings\n",
    "\n",
    "Sometimes we want to give textual feedback, that can be done by **strings**. Or, another option is that we have some text as identifying keys of a map or dictionary or like in the table above the header line. Strings are defined by either quotes **' '** or double quotes **\" \"**. "
   ]
  },
  {
   "cell_type": "code",
   "execution_count": 13,
   "id": "primary-recall",
   "metadata": {},
   "outputs": [
    {
     "data": {
      "text/plain": [
       "'Hello'"
      ]
     },
     "execution_count": 13,
     "metadata": {},
     "output_type": "execute_result"
    }
   ],
   "source": [
    "greeting = 'Hello'\n",
    "greeting"
   ]
  },
  {
   "cell_type": "code",
   "execution_count": 14,
   "id": "subjective-season",
   "metadata": {},
   "outputs": [
    {
     "data": {
      "text/plain": [
       "'Hello everybody!'"
      ]
     },
     "execution_count": 14,
     "metadata": {},
     "output_type": "execute_result"
    }
   ],
   "source": [
    "sayHi = \"Hello everybody!\"\n",
    "sayHi"
   ]
  },
  {
   "cell_type": "markdown",
   "id": "solid-portable",
   "metadata": {},
   "source": [
    "Strings can be concatenated by simply adding them together:"
   ]
  },
  {
   "cell_type": "code",
   "execution_count": 15,
   "id": "fiscal-penguin",
   "metadata": {},
   "outputs": [
    {
     "data": {
      "text/plain": [
       "'HelloHello everybody!'"
      ]
     },
     "execution_count": 15,
     "metadata": {},
     "output_type": "execute_result"
    }
   ],
   "source": [
    "greeting + sayHi"
   ]
  },
  {
   "cell_type": "markdown",
   "id": "infrared-piano",
   "metadata": {},
   "source": [
    "We can print them using the builtin function ```print()```. "
   ]
  },
  {
   "cell_type": "code",
   "execution_count": 16,
   "id": "interesting-cherry",
   "metadata": {},
   "outputs": [
    {
     "name": "stdout",
     "output_type": "stream",
     "text": [
      "Hello everybody!\n"
     ]
    }
   ],
   "source": [
    "print(sayHi)"
   ]
  },
  {
   "cell_type": "markdown",
   "id": "demonstrated-scale",
   "metadata": {},
   "source": [
    "Can you see a difference? Printing a string had no quotes in the output. Just evaluating the variable doe print the variables content and that is a string of which the quotes belong. Python internally seem to prefer quotes.\n",
    "\n",
    "Another operation we can do on strings is to ask for their length:"
   ]
  },
  {
   "cell_type": "code",
   "execution_count": 17,
   "id": "atlantic-native",
   "metadata": {},
   "outputs": [
    {
     "data": {
      "text/plain": [
       "16"
      ]
     },
     "execution_count": 17,
     "metadata": {},
     "output_type": "execute_result"
    }
   ],
   "source": [
    "len(sayHi)"
   ]
  },
  {
   "cell_type": "markdown",
   "id": "solid-parking",
   "metadata": {},
   "source": [
    "## Python functions\n",
    "\n",
    "to structure our code into tasks, we can use **functions**. The key word to tell Python that we define a function is ```def```. Let's tru to define a functions that says hi to someone."
   ]
  },
  {
   "cell_type": "code",
   "execution_count": 21,
   "id": "trained-punch",
   "metadata": {},
   "outputs": [],
   "source": [
    "def say_hi_to(name):\n",
    "    print('Hi', name)"
   ]
  },
  {
   "cell_type": "code",
   "execution_count": 22,
   "id": "comparable-traveler",
   "metadata": {},
   "outputs": [
    {
     "name": "stdout",
     "output_type": "stream",
     "text": [
      "Hi Lea\n"
     ]
    }
   ],
   "source": [
    "say_hi_to('Lea')"
   ]
  },
  {
   "cell_type": "markdown",
   "id": "streaming-prophet",
   "metadata": {},
   "source": [
    "If you look at the function there is a certain structure needed. after ```def``` we have the name of the function with which we can call it. All commands that belong to the function have then to be indended so Python can recognise them to belong to the function. \n",
    "\n",
    "Let's make a function that takes multiple arguments and returns a value."
   ]
  },
  {
   "cell_type": "code",
   "execution_count": 44,
   "id": "technological-atlantic",
   "metadata": {},
   "outputs": [],
   "source": [
    "def welcome(name, location):\n",
    "    print('Hi', name, 'welcome to', location)\n",
    "    return name + ' is here in ' + location + '!'"
   ]
  },
  {
   "cell_type": "code",
   "execution_count": 45,
   "id": "bigger-kuwait",
   "metadata": {},
   "outputs": [
    {
     "name": "stdout",
     "output_type": "stream",
     "text": [
      "Hi Lea welcome to Tartu\n"
     ]
    }
   ],
   "source": [
    "result = welcome('Lea', 'Tartu')"
   ]
  },
  {
   "cell_type": "code",
   "execution_count": 46,
   "id": "upset-kenya",
   "metadata": {},
   "outputs": [
    {
     "data": {
      "text/plain": [
       "'Lea is here in Tartu!'"
      ]
     },
     "execution_count": 46,
     "metadata": {},
     "output_type": "execute_result"
    }
   ],
   "source": [
    "result"
   ]
  },
  {
   "cell_type": "code",
   "execution_count": 47,
   "id": "working-kitchen",
   "metadata": {},
   "outputs": [
    {
     "name": "stdout",
     "output_type": "stream",
     "text": [
      "Hi Lea welcome to Tartu\n"
     ]
    },
    {
     "data": {
      "text/plain": [
       "'Lea is here in Tartu!'"
      ]
     },
     "execution_count": 47,
     "metadata": {},
     "output_type": "execute_result"
    }
   ],
   "source": [
    "welcome('Lea', 'Tartu')"
   ]
  },
  {
   "cell_type": "markdown",
   "id": "identified-building",
   "metadata": {},
   "source": [
    "In the last example, we have given two arguments to the function, the function did print a welcome greeting and also returned some string. In comparison to the ```say_hi_to(name)``` function, where nothing is returned we can store the returned string to some variable. If we do not so, the returned string is aoutomatically shown in the output. "
   ]
  },
  {
   "cell_type": "markdown",
   "id": "democratic-passenger",
   "metadata": {},
   "source": [
    "## Decisions and booleans\n",
    "\n",
    "Programs are great to make decisions depending on values that come from calculations, or are in strings etc. Also, Python can use boolean operators to make comparisons. We use them to control how the flow of the program goes. \n",
    "\n",
    "Let's see some examples."
   ]
  },
  {
   "cell_type": "code",
   "execution_count": 48,
   "id": "broadband-execution",
   "metadata": {},
   "outputs": [
    {
     "name": "stdout",
     "output_type": "stream",
     "text": [
      "better run...\n"
     ]
    }
   ],
   "source": [
    "bear_is_home = True\n",
    "if bear_is_home:\n",
    "    print('better run...')"
   ]
  },
  {
   "cell_type": "code",
   "execution_count": 49,
   "id": "greek-broadway",
   "metadata": {},
   "outputs": [
    {
     "name": "stdout",
     "output_type": "stream",
     "text": [
      "let's grab the honey\n"
     ]
    }
   ],
   "source": [
    "bear_is_home = False\n",
    "if bear_is_home:\n",
    "    print('better run...')\n",
    "else:\n",
    "    print('let\\'s grab the honey')"
   ]
  },
  {
   "cell_type": "markdown",
   "id": "executed-banana",
   "metadata": {},
   "source": [
    "### Basic boolean operators\n",
    "\n",
    "|**Operator**|**Name**|**Example**|\n",
    "|---|---|---|\n",
    "| > | greater than | 2 > 5 -> False |\n",
    "| < | smaller than | 2 < 5 -> True |\n",
    "| >= | greater or equal than | 3 >= 3 -> True |\n",
    "| <= | smaller or equal than | 3 <= 2 -> False |\n",
    "| == | is equal | 3 == 3 -> True |\n",
    "| != | is not equal | 4 != 7 -> True | "
   ]
  },
  {
   "cell_type": "markdown",
   "id": "through-fabric",
   "metadata": {},
   "source": [
    "## Python control structures and loops\n",
    "\n",
    "Computers are thankful doing stuff we find usually quite boring or even tedious. So counting from 1 to 1000 in steps of 1 is a somewhat boring task. Or reading sentences letter by letter have not very much excitement potential. The ```for``` loop is doing this without complaining."
   ]
  },
  {
   "cell_type": "code",
   "execution_count": 50,
   "id": "bottom-marks",
   "metadata": {},
   "outputs": [
    {
     "name": "stdout",
     "output_type": "stream",
     "text": [
      "H\n",
      "i\n",
      " \n",
      "t\n",
      "h\n",
      "e\n",
      "r\n",
      "e\n",
      ",\n",
      " \n",
      "I\n",
      " \n",
      "a\n",
      "m\n",
      " \n",
      "s\n",
      "o\n",
      "m\n",
      "e\n",
      " \n",
      "s\n",
      "e\n",
      "n\n",
      "t\n",
      "e\n",
      "n\n",
      "c\n",
      "e\n",
      "!\n"
     ]
    }
   ],
   "source": [
    "for letter in 'Hi there, I am some sentence!':\n",
    "    print(letter)"
   ]
  },
  {
   "cell_type": "markdown",
   "id": "golden-stone",
   "metadata": {},
   "source": [
    "For loops are ideal in the case we already know how long an object is. Lists as example, can hold differernt things like numbers, strings etc. and usually they have a certain length. In the next example we loop over a list of things."
   ]
  },
  {
   "cell_type": "code",
   "execution_count": 51,
   "id": "three-madrid",
   "metadata": {},
   "outputs": [
    {
     "name": "stdout",
     "output_type": "stream",
     "text": [
      "13\n",
      "z\n",
      "Yeah\n"
     ]
    }
   ],
   "source": [
    "mylist = [13, 'z', 'Yeah']\n",
    "for item in mylist:\n",
    "    print(item)"
   ]
  },
  {
   "cell_type": "markdown",
   "id": "oriental-bhutan",
   "metadata": {},
   "source": [
    "But, what to do if we do not know how long an object is or if we want to repeat something unless aome condition is met? Python uses in this case the ```while``` loop."
   ]
  },
  {
   "cell_type": "code",
   "execution_count": 52,
   "id": "received-bulgarian",
   "metadata": {},
   "outputs": [
    {
     "name": "stdout",
     "output_type": "stream",
     "text": [
      "1\n",
      "2\n",
      "3\n",
      "4\n",
      "5\n"
     ]
    }
   ],
   "source": [
    "i = 1\n",
    "while i <= 5:\n",
    "    print(i)\n",
    "    i = i + 1"
   ]
  },
  {
   "cell_type": "markdown",
   "id": "indonesian-fields",
   "metadata": {},
   "source": [
    "In some cases, we want to run something forever. This can be done by\n",
    "\n",
    "```python\n",
    "while True:\n",
    "    <do somthing>\n",
    "```\n",
    "Be careful, in a terminal window this loop can be stopped by pressing the ```CTRL-C``` keys. In Jupyter notebooks, this can be stopped by topping the Python kernel via the kernel menu. But, in some cases when your program produces in this situation massive output your Broweser may get stuck. You need then to use your systems way to stop that process.\n"
   ]
  },
  {
   "cell_type": "markdown",
   "id": "recovered-advice",
   "metadata": {},
   "source": [
    "## Python comments\n",
    "\n",
    "It is however a good idea to write some comments into the code. In Python there are the hash **#** symbol that is used to tell the interpreter to skip the rest of the line starting from the hash. These comments help to remember what the actual piece of code is doing. A good documented code helps you to understand also after some days or weeks to understand your code. \n",
    "\n",
    "In Jupyter notebooks, you can as well use the markdown cells to write longer texts and thoughts or even explanations of the pieces of code which are in the notebook. \n"
   ]
  },
  {
   "cell_type": "code",
   "execution_count": 56,
   "id": "exotic-replacement",
   "metadata": {},
   "outputs": [
    {
     "name": "stdout",
     "output_type": "stream",
     "text": [
      "780\n"
     ]
    }
   ],
   "source": [
    "# This is a comment.\n",
    "\n",
    "a = 40 # upper limit of our loop\n",
    "b = 0  # result goes here\n",
    "\n",
    "# calculate the sum of all elements until the upper limit and print the result\n",
    "for i in range(a):\n",
    "    b += i  # short version of b = b + i\n",
    "    \n",
    "print(b)"
   ]
  },
  {
   "cell_type": "markdown",
   "id": "serial-ordering",
   "metadata": {},
   "source": [
    "The example here is actually kind of overcommented, but we wanted to show the possibility of comments in code. How much comments there should be is a question that is not very easy answered. While it is good to have some explanations it does not make sense to have everything commented. Becasue we can choose meanigful names for variables, the need of commenting long lists single letter variable names is more related to a \"bad programming style\". Let's try once more"
   ]
  },
  {
   "cell_type": "code",
   "execution_count": 57,
   "id": "dietary-ribbon",
   "metadata": {},
   "outputs": [
    {
     "name": "stdout",
     "output_type": "stream",
     "text": [
      "780\n"
     ]
    }
   ],
   "source": [
    "upper_limit = 40\n",
    "result      = 0\n",
    "\n",
    "# calculate the total in the range 0 to upper_limit\n",
    "for i in range(upper_limit):\n",
    "    result += i\n",
    "    \n",
    "print(result)"
   ]
  },
  {
   "cell_type": "markdown",
   "id": "preliminary-undergraduate",
   "metadata": {},
   "source": [
    "In the last example, it is already very clear what the variables are for and no extra comments are needed. The actual comment is now used to explain what the loop is doing. It, hopefully, shows that it is possible to make \"readable\" programs.\n",
    "\n",
    "Another way to make some kind of documentation and comments are **docstrings**. These are used mostly in function definitions to let us make a longer description abut the function. Let's have an example. Docstrings are with three quotes or double quotes enclosed.\n",
    "\n",
    "```python\n",
    "\"\"\" here some text \"\"\" == ''' here some text '''\n",
    "```\n",
    "\n",
    "The text between the quotes can span over several lines.\n"
   ]
  },
  {
   "cell_type": "code",
   "execution_count": 60,
   "id": "dedicated-property",
   "metadata": {},
   "outputs": [],
   "source": [
    "def do_nothing():\n",
    "    \"\"\"This function doesn't do anything.\"\"\"\n",
    "    pass"
   ]
  },
  {
   "cell_type": "code",
   "execution_count": 61,
   "id": "acoustic-ontario",
   "metadata": {},
   "outputs": [],
   "source": [
    "def do_still_nothing():\n",
    "    \"\"\"\n",
    "    This function does still nothing.\n",
    "    \n",
    "    Parameters:\n",
    "        none\n",
    "    \n",
    "    Returns:\n",
    "        nothing\n",
    "    \"\"\"\n",
    "    pass"
   ]
  },
  {
   "cell_type": "code",
   "execution_count": 62,
   "id": "addressed-nightmare",
   "metadata": {},
   "outputs": [
    {
     "name": "stdout",
     "output_type": "stream",
     "text": [
      "Help on function do_nothing in module __main__:\n",
      "\n",
      "do_nothing()\n",
      "    This function doesn't do anything.\n",
      "\n"
     ]
    }
   ],
   "source": [
    "help(do_nothing)"
   ]
  },
  {
   "cell_type": "code",
   "execution_count": 63,
   "id": "sticky-upset",
   "metadata": {},
   "outputs": [
    {
     "name": "stdout",
     "output_type": "stream",
     "text": [
      "Help on function do_still_nothing in module __main__:\n",
      "\n",
      "do_still_nothing()\n",
      "    This function does still nothing.\n",
      "    \n",
      "    Parameters:\n",
      "        none\n",
      "    \n",
      "    Returns:\n",
      "        nothing\n",
      "\n"
     ]
    }
   ],
   "source": [
    "help(do_still_nothing)"
   ]
  },
  {
   "cell_type": "markdown",
   "id": "sensitive-badge",
   "metadata": {},
   "source": [
    "From the last cells we can see that there is a very important purpose of these docstrings. We can write already in the code a documentation for the functions we are providing. This documentation can then be accessed via Python's help system. "
   ]
  },
  {
   "cell_type": "markdown",
   "id": "dramatic-richardson",
   "metadata": {
    "tags": []
   },
   "source": [
    "## The Python progam structure in Jupyter notebooks\n",
    "\n",
    "A Python program consists of a series of commands in which we define variables and functions, use boolean operators to control the flow of the program and make decisions what to do in the onr or the other case. \n",
    "\n",
    "In the Jupyter environment, we can use code cells to run pieces of code, annotate them via markdown cells, and do a very interactive process in developing the program, or maybe better the workflow, our task needs.\n"
   ]
  },
  {
   "cell_type": "code",
   "execution_count": null,
   "id": "ideal-wilderness",
   "metadata": {},
   "outputs": [],
   "source": []
  }
 ],
 "metadata": {
  "kernelspec": {
   "display_name": "Python 3",
   "language": "python",
   "name": "python3"
  },
  "language_info": {
   "codemirror_mode": {
    "name": "ipython",
    "version": 3
   },
   "file_extension": ".py",
   "mimetype": "text/x-python",
   "name": "python",
   "nbconvert_exporter": "python",
   "pygments_lexer": "ipython3",
   "version": "3.8.8"
  }
 },
 "nbformat": 4,
 "nbformat_minor": 5
}
