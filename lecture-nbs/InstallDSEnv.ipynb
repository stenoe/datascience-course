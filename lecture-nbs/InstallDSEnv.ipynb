{
 "cells": [
  {
   "cell_type": "markdown",
   "id": "brilliant-closer",
   "metadata": {},
   "source": [
    "# Installing a datascience environment"
   ]
  },
  {
   "cell_type": "markdown",
   "id": "moral-daisy",
   "metadata": {},
   "source": [
    "## Choices"
   ]
  },
  {
   "cell_type": "markdown",
   "id": "subjective-sugar",
   "metadata": {},
   "source": [
    "### Which tool to use?\n",
    "\n",
    "There are many tools available for use with data analysis and data processing. One tool of choice is the [Jupyter](https://jupyter.org) notebook environment. It allows interactive processing of data in different programming languages like [Python](https://www.python.org), [R](https://www.r-project.org), and much [more](https://github.com/jupyter/jupyter/wiki/Jupyter-kernels). This, however, makes it a perfect interactive tool because it can be used with the language preferred. \n",
    "\n",
    "There are, of course proprietary software tools like [Mathematica](https://www.wolfram.com/mathematica/) or [Matlab](https://se.mathworks.com/products/matlab.html) of which Mathematica used already from the beginning an interactive notebook environmet and todays Matlab version also have a similar solution available. \n",
    "\n",
    "[Jupyter notebooks](https://en.wikipedia.org/wiki/Project_Jupyter) are a freely available and a web-based [notebook computing environent](https://en.wikipedia.org/wiki/Notebook_interface) that can run in an internet browser. Jupyter notebooks allow literate programming: a way to make programs more readable and understandable to humans. Inside the notebook, we can add text and program code at the same time. It is possible to execute the code and to see the output inside the notebook instantly. This defines a readable document rather than a code piece.   "
   ]
  },
  {
   "cell_type": "markdown",
   "id": "satisfactory-evening",
   "metadata": {},
   "source": [
    "### Which type of notebook system to use?\n",
    "\n",
    "We have basically two choices here:\n",
    "\n",
    "1. Install and build the Jupyter system from a bundle\n",
    "2. Install a pre-build system\n",
    "\n",
    "#### Option 1\n",
    "The pro's of option 1 are that you have the full control on the system and there are different choices again. The most known systems are [Anaconda](https://www.anaconda.com) and it's more lean version [Miniconda](https://docs.conda.io/en/latest/miniconda.html). While Anaconda gives you a GUI tool and package manager it might be the tool of choice if you are a beginner and would like to have access to a plethora of packages that are available and istall them at once. Anaconda will eat up about 3GB of disk space. The Miniconda system, however has also the access to these packages but it comes with a command line interface. Here, you have less disk space used but you need to install the packages that are necessary by yourself. Both are available for Mac, Linux and Windows. There is as well the [EDM](https://assets.enthought.com/downloads/) (formely Canopy) by Enthought which also has both, a GUI and a commandline interface. \n",
    "\n",
    "The con's of option 1 are that you have the responsibility to maintain and install needed packages by yourself. This might be simple if you are not in need of different packages that may depend on different versions but can be complex if e.g. a package need to have a certain version. In thic case, however all of the systems above allow to create 'environments' in which can be different versions installed to meet your needs.\n",
    "\n",
    "#### Option 2\n",
    "For option 2, the simplest solution is [Docker](https://www.docker.com). The Docker envinronment enables your system to use so called 'containers'. A container is, in very simplified words, the possibility to run things (programs, apps etc) in a capsule. But, bare in mind, if installed locally the container uses resources of your computer. The benfit is as example, if you crash your 'thing' (the app does not respond anymore) the rest of your computer works on. You just shut down the container and restart it. Another benefit is that it helps you not to clutter up your computer with many libraries etc you may not need all the time. If you are done with your job, you can delete the container and it can be reinstalled. You can use containerised systems like the datascience notebook from [Jupyter Docker Stacks](https://jupyter-docker-stacks.readthedocs.io/en/latest/) which are tested and available via [DockerHub](https://hub.docker.com/r/jupyter/datascience-notebook/).\n",
    "\n",
    "The con's for the option 2 are that you need to learn some command line commands and how to enable the container to see your notebooks. This needs some understanding of your file system and maybe a bit of planning where to put some folder seen by your container."
   ]
  },
  {
   "cell_type": "markdown",
   "id": "removed-threat",
   "metadata": {},
   "source": [
    "## Installation"
   ]
  },
  {
   "cell_type": "markdown",
   "id": "touched-superintendent",
   "metadata": {},
   "source": [
    "### Anaconda\n",
    "\n",
    "Go to the website and [download](https://www.anaconda.com/products/individual) the individual free version for your system. \n",
    "\n",
    "<img src='anaconinstal.png' width='700'>\n",
    "\n"
   ]
  },
  {
   "cell_type": "markdown",
   "id": "charming-syria",
   "metadata": {},
   "source": [
    "### Miniconda\n",
    "\n",
    "Go to the website and [download](https://docs.conda.io/en/latest/miniconda.html) the fitting version for your system. There are different installers for Windows, MacOS, and Linux. Depending on your needs, Miniconda offers the versions for a Python 2.x and 3.x, whereof the 3.8 version is the latests this time. \n"
   ]
  },
  {
   "cell_type": "markdown",
   "id": "global-switch",
   "metadata": {},
   "source": [
    "<img style='float: right;' src='dockerinst.png' width='200'>\n",
    "\n",
    "### Docker\n",
    "\n",
    "First, go to the website and [download](https://www.docker.com/get-started) the Docker Desktop for your system. \n",
    "\n",
    "There are versions for Windows, MacOS and Linux. For Linux, there might be already Docker packages of the distribution you use and you need to refer to the way how these are installed on yout specific  system. Alternatetivly, you can have a look on the Linux link in the Docker website. \n",
    "\n",
    "In case you want to build own Docker containers and you want to share them, it's a good idea to sign up to the [Docker Hub](https://docs.docker.com/docker-hub/). There is as well access to available containers and a search for containers available. \n",
    "\n"
   ]
  },
  {
   "cell_type": "markdown",
   "id": "iraqi-energy",
   "metadata": {},
   "source": [
    "### Use Jupyter Docker Stacks"
   ]
  },
  {
   "cell_type": "code",
   "execution_count": null,
   "id": "grand-salon",
   "metadata": {},
   "outputs": [],
   "source": []
  }
 ],
 "metadata": {
  "kernelspec": {
   "display_name": "Python 3",
   "language": "python",
   "name": "python3"
  },
  "language_info": {
   "codemirror_mode": {
    "name": "ipython",
    "version": 3
   },
   "file_extension": ".py",
   "mimetype": "text/x-python",
   "name": "python",
   "nbconvert_exporter": "python",
   "pygments_lexer": "ipython3",
   "version": "3.8.6"
  }
 },
 "nbformat": 4,
 "nbformat_minor": 5
}
